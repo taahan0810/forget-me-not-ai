{
 "cells": [
  {
   "cell_type": "code",
   "execution_count": 3,
   "metadata": {},
   "outputs": [
    {
     "name": "stdout",
     "output_type": "stream",
     "text": [
      "SNeurodCNN(\n",
      "  (conv1): Conv2d(1, 32, kernel_size=(3, 3), stride=(1, 1))\n",
      "  (pool): MaxPool2d(kernel_size=2, stride=2, padding=0, dilation=1, ceil_mode=False)\n",
      "  (conv2): Conv2d(32, 32, kernel_size=(3, 3), stride=(1, 1))\n",
      "  (conv3): Conv2d(32, 64, kernel_size=(3, 3), stride=(1, 1))\n",
      "  (adaptive_pool): AdaptiveAvgPool2d(output_size=(44, 44))\n",
      "  (fc1): Linear(in_features=123904, out_features=500, bias=True)\n",
      "  (dropout): Dropout(p=0.5, inplace=False)\n",
      "  (fc2): Linear(in_features=500, out_features=2, bias=True)\n",
      ")\n",
      "----------------------------------------------------------------\n",
      "        Layer (type)               Output Shape         Param #\n",
      "================================================================\n",
      "            Conv2d-1         [-1, 32, 178, 178]             320\n",
      "         MaxPool2d-2           [-1, 32, 89, 89]               0\n",
      "            Conv2d-3           [-1, 32, 87, 87]           9,248\n",
      "            Conv2d-4           [-1, 64, 85, 85]          18,496\n",
      " AdaptiveAvgPool2d-5           [-1, 64, 44, 44]               0\n",
      "            Linear-6                  [-1, 500]      61,952,500\n",
      "           Dropout-7                  [-1, 500]               0\n",
      "            Linear-8                    [-1, 2]           1,002\n",
      "================================================================\n",
      "Total params: 61,981,566\n",
      "Trainable params: 61,981,566\n",
      "Non-trainable params: 0\n",
      "----------------------------------------------------------------\n",
      "Input size (MB): 0.12\n",
      "Forward/backward pass size (MB): 16.00\n",
      "Params size (MB): 236.44\n",
      "Estimated Total Size (MB): 252.56\n",
      "----------------------------------------------------------------\n"
     ]
    }
   ],
   "source": [
    "import torch\n",
    "import torch.nn as nn\n",
    "import torch.nn.functional as F\n",
    "from torchsummary import summary\n",
    "\n",
    "class SNeurodCNN(nn.Module):\n",
    "    def __init__(self):\n",
    "        super(SNeurodCNN, self).__init__()\n",
    "        self.conv1 = nn.Conv2d(1, 32, kernel_size=3, stride=1, padding=0)\n",
    "        self.pool = nn.MaxPool2d(kernel_size=2, stride=2, padding=0)\n",
    "        self.conv2 = nn.Conv2d(32, 32, kernel_size=3, stride=1, padding=0)\n",
    "        self.conv3 = nn.Conv2d(32, 64, kernel_size=3, stride=1, padding=0)\n",
    "        self.adaptive_pool = nn.AdaptiveAvgPool2d((44, 44))\n",
    "        self.fc1 = nn.Linear(64 * 44 * 44, 500)\n",
    "        self.dropout = nn.Dropout(0.5)\n",
    "        self.fc2 = nn.Linear(500, 2)\n",
    "        \n",
    "    def forward(self, x):\n",
    "        x = self.pool(F.relu(self.conv1(x)))\n",
    "        x = F.relu(self.conv2(x))\n",
    "        x = self.adaptive_pool(F.relu(self.conv3(x)))\n",
    "        x = x.view(-1, 64 * 44 * 44) \n",
    "        x = F.relu(self.fc1(x))\n",
    "        x = self.dropout(x)\n",
    "        x = self.fc2(x)\n",
    "        return x\n",
    "\n",
    "    \n",
    "model = SNeurodCNN()\n",
    "\n",
    "print(model)\n",
    "summary(model, input_size=(1, 180, 180))"
   ]
  },
  {
   "cell_type": "code",
   "execution_count": 2,
   "metadata": {},
   "outputs": [],
   "source": [
    "# Optimizer: Adam\n",
    "# Learning rate: 0.0001\n",
    "# Epochs: 100\n",
    "# Batch size: 32\n",
    "# Regularizers: Early stopping (patience = 5, restore_best_weights = True)"
   ]
  }
 ],
 "metadata": {
  "kernelspec": {
   "display_name": "Python 3 (ipykernel)",
   "language": "python",
   "name": "python3"
  },
  "language_info": {
   "codemirror_mode": {
    "name": "ipython",
    "version": 3
   },
   "file_extension": ".py",
   "mimetype": "text/x-python",
   "name": "python",
   "nbconvert_exporter": "python",
   "pygments_lexer": "ipython3",
   "version": "3.10.9"
  }
 },
 "nbformat": 4,
 "nbformat_minor": 4
}
